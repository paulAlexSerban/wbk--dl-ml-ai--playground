{
 "cells": [
  {
   "cell_type": "code",
   "execution_count": null,
   "metadata": {},
   "outputs": [],
   "source": [
    "import nltk\n",
    "from nltk.tokenize import word_tokenize\n",
    "from nltk.corpus import stopwords\n",
    "from nltk.stem import WordNetLemmatizer\n",
    "import spacy\n",
    "from spacy import displacy\n",
    "import re\n",
    "import pandas as pd\n",
    "import matplotlib.pyplot as plt\n",
    "from IPython.display import display, HTML"
   ]
  },
  {
   "cell_type": "markdown",
   "metadata": {},
   "source": [
    "# Load data"
   ]
  },
  {
   "cell_type": "code",
   "execution_count": null,
   "metadata": {},
   "outputs": [],
   "source": [
    "bbc_data = pd.read_csv('bbc_news.csv')\n",
    "bbc_data.head()"
   ]
  },
  {
   "cell_type": "code",
   "execution_count": null,
   "metadata": {},
   "outputs": [],
   "source": [
    "bbc_data.info()"
   ]
  },
  {
   "cell_type": "code",
   "execution_count": null,
   "metadata": {},
   "outputs": [],
   "source": [
    "titles = pd.DataFrame(bbc_data['title'])\n",
    "titles.head()"
   ]
  },
  {
   "cell_type": "markdown",
   "metadata": {},
   "source": [
    "# Clean Data"
   ]
  },
  {
   "cell_type": "code",
   "execution_count": null,
   "metadata": {},
   "outputs": [],
   "source": [
    "# lowercase\n",
    "titles['lowercase'] = titles['title'].str.lower()\n",
    "\n",
    "# stopwords removal\n",
    "en_stopwords = stopwords.words('english')\n",
    "titles['no_stopwords'] = titles['lowercase'].apply(lambda x: ' '.join([word for word in x.split() if word not in (en_stopwords)]))\n",
    "\n",
    "# punctuation removal\n",
    "titles['no_stopwords_no_punch'] = titles.apply(lambda row: re.sub(r'[^\\w\\s]', '', row['no_stopwords']), axis=1)"
   ]
  },
  {
   "cell_type": "code",
   "execution_count": null,
   "metadata": {},
   "outputs": [],
   "source": [
    "# tokenize\n",
    "titles['tokens_raw'] = titles.apply(lambda x: word_tokenize(x['title']), axis=1)\n",
    "titles['tokens_clean'] = titles.apply(lambda x: word_tokenize(x['no_stopwords_no_punch']), axis=1)"
   ]
  },
  {
   "cell_type": "code",
   "execution_count": null,
   "metadata": {},
   "outputs": [],
   "source": [
    "# lemmatizing\n",
    "lemmatizer = WordNetLemmatizer()\n",
    "titles['tokens_clean_lemmatized'] = titles['tokens_clean'].apply(lambda x: [lemmatizer.lemmatize(word) for word in x])\n",
    "\n",
    "titles.head()"
   ]
  },
  {
   "cell_type": "code",
   "execution_count": null,
   "metadata": {},
   "outputs": [],
   "source": [
    "# create list for just our tokens\n",
    "tokens_raw_list = sum(titles['tokens_raw'], []) #unpack our lists into a single list\n",
    "tokens_clean_list = sum(titles['tokens_clean_lemmatized'], [])\n",
    "\n",
    "print(tokens_clean_list)"
   ]
  },
  {
   "cell_type": "markdown",
   "metadata": {},
   "source": [
    "# POS Tagging\n",
    "- Part-of-speech tagging is the process of assigning a part of speech to each word in a given text (such as nouns, verbs, adjectives, and others) based on its definition and its context."
   ]
  },
  {
   "cell_type": "code",
   "execution_count": null,
   "metadata": {},
   "outputs": [],
   "source": [
    "npl = spacy.load(\"en_core_web_sm\")\n",
    "spacy_doc = npl(\" \".join(tokens_clean_list))\n",
    "pos_df = pd.DataFrame(columns = ['token', 'pos_tag'])\n",
    "for token in spacy_doc:\n",
    "    pos_df = pd.concat([pos_df, pd.DataFrame.from_records([(token.text, token.pos_)], columns = ['token', 'pos_tag'])], ignore_index=True)\n",
    "    \n",
    "pos_df.head(10)"
   ]
  },
  {
   "cell_type": "code",
   "execution_count": null,
   "metadata": {},
   "outputs": [],
   "source": [
    "pos_df_counts = pos_df.groupby(['token', 'pos_tag']).size().reset_index(name='count').sort_values(by='count', ascending=False)\n",
    "pos_df_counts.head(10)"
   ]
  },
  {
   "cell_type": "code",
   "execution_count": null,
   "metadata": {},
   "outputs": [],
   "source": [
    "nouns = pos_df_counts[pos_df_counts['pos_tag'] == 'NOUN']\n",
    "nouns.head(10)"
   ]
  },
  {
   "cell_type": "code",
   "execution_count": null,
   "metadata": {},
   "outputs": [],
   "source": [
    "adjectives = pos_df_counts[pos_df_counts['pos_tag'] == 'ADJ']\n",
    "adjectives.head(10)"
   ]
  },
  {
   "cell_type": "code",
   "execution_count": null,
   "metadata": {},
   "outputs": [],
   "source": [
    "verbs = pos_df_counts[pos_df_counts['pos_tag'] == 'VERB']\n",
    "verbs.head(10)"
   ]
  },
  {
   "cell_type": "markdown",
   "metadata": {},
   "source": [
    "# NER - Named Entity Recognition\n",
    "- Named Entity Recognition (NER) is a subtask of information extraction that locates and classifies named entities mentioned in unstructured text into pre-defined categories such as the person names, organizations, locations, medical codes, time expressions, quantities, monetary values, percentages, etc."
   ]
  },
  {
   "cell_type": "code",
   "execution_count": null,
   "metadata": {},
   "outputs": [],
   "source": [
    "ner_df = pd.DataFrame(columns = ['token', 'ner_tag'])\n",
    "for token in spacy_doc.ents:\n",
    "    if pd.isna(token.label_)is False:\n",
    "        ner_df = pd.concat([ner_df, pd.DataFrame.from_records([{ 'token': token.text, 'ner_tag': token.label_ }])], ignore_index=True)"
   ]
  },
  {
   "cell_type": "code",
   "execution_count": null,
   "metadata": {},
   "outputs": [],
   "source": [
    "ner_df.head(10)"
   ]
  },
  {
   "cell_type": "code",
   "execution_count": null,
   "metadata": {},
   "outputs": [],
   "source": [
    "# get most common named entities\n",
    "ner_df_counts = ner_df.groupby(['token', 'ner_tag']).size().reset_index(name='count').sort_values(by='count', ascending=False)\n",
    "ner_df_counts.head(10)"
   ]
  },
  {
   "cell_type": "code",
   "execution_count": null,
   "metadata": {},
   "outputs": [],
   "source": [
    "people = ner_df_counts[ner_df_counts['ner_tag'] == 'PERSON']\n",
    "people.head(10)"
   ]
  },
  {
   "cell_type": "code",
   "execution_count": null,
   "metadata": {},
   "outputs": [],
   "source": [
    "svg = displacy.render(spacy_doc, style='ent', jupyter=False)\n",
    "display(HTML(svg))"
   ]
  }
 ],
 "metadata": {
  "kernelspec": {
   "display_name": ".venv",
   "language": "python",
   "name": "python3"
  },
  "language_info": {
   "codemirror_mode": {
    "name": "ipython",
    "version": 3
   },
   "file_extension": ".py",
   "mimetype": "text/x-python",
   "name": "python",
   "nbconvert_exporter": "python",
   "pygments_lexer": "ipython3",
   "version": "3.12.9"
  }
 },
 "nbformat": 4,
 "nbformat_minor": 2
}
