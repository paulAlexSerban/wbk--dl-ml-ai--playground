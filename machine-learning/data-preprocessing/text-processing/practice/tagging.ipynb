{
 "cells": [
  {
   "cell_type": "markdown",
   "metadata": {},
   "source": [
    "# Tagging"
   ]
  },
  {
   "cell_type": "code",
   "execution_count": null,
   "metadata": {},
   "outputs": [],
   "source": [
    "import spacy"
   ]
  },
  {
   "cell_type": "markdown",
   "metadata": {},
   "source": [
    "## Parts of Speach Tagging (POS)\n",
    "- we take each of out tokens and assign them a part of speach tag (noun, verb, adjective, etc)\n",
    "- this is useful for many NLP tasks, such as Named Entity Recognition, Sentiment Analysis, etc"
   ]
  },
  {
   "cell_type": "code",
   "execution_count": null,
   "metadata": {},
   "outputs": [],
   "source": [
    "\n",
    "import pandas as pd\n",
    "\n",
    "npl = spacy.load('en_core_web_sm')\n",
    "emma_jane_austen = \"emma woodhouse handsome clever and rich with a comfortable home and happy disposition seemed to unite some of the best blessings of existence and had lived nearly twentyone years in the world with very little to distress or vex her she was the youngest of the two daughters of a most affectionate indulgent father and had in consequence of her sisters marriage been mistress of his house from a very early period her mother had died too long ago for her to have more than an indistinct remembrance of her caresses and her place had been supplied by an excellent woman as governess who had fallen little short of a mother in affection sixteen years had miss taylor been in mr woodhouses family less as a governess than a friend very fond of both daughters but particularly of emma between them it was more the intimacy of sisters even before miss taylor had ceased to hold the nominal office of governess the mildness of her temper had hardly allowed her to impose any restraint and the shadow of authority being now long passed away they had been living together as friend and friend very mutually attached and emma doing just what she liked highly esteeming miss taylors judgment but directed chiefly by her own\"\n",
    "\n",
    "# create spacy document for the text - will generate the tokens and the associated Parts of Speach (POS) tags\n",
    "spacy_doc = npl(emma_jane_austen)\n",
    "# create Pandas DataFrame to hold the POS data and token text\n",
    "pos_df = pd.DataFrame(columns=['Token', 'POS', 'POS Description'])\n",
    "# iterate over the tokens in the spacy document and add the POS data to the DataFrame\n",
    "for token in spacy_doc:\n",
    "    # add the token and POS data to the DataFrame as a new row\n",
    "    pos_df = pd.concat([pos_df, pd.DataFrame([[token.text, token.pos_, spacy.explain(token.pos_)]], columns=['Token', 'POS', 'POS Description'])], ignore_index=True)\n",
    "    \n",
    "pos_df.head(15)"
   ]
  },
  {
   "cell_type": "code",
   "execution_count": null,
   "metadata": {},
   "outputs": [],
   "source": [
    "# get the mots common POS tags and tokens\n",
    "pos_df_counts = pos_df.groupby(['Token', 'POS']).size().reset_index(name='Count').sort_values('Count', ascending=False)\n",
    "pos_df_counts.head(10)"
   ]
  },
  {
   "cell_type": "code",
   "execution_count": null,
   "metadata": {},
   "outputs": [],
   "source": [
    "# how many diffrent words we have under each different tag\n",
    "pos_df_posscounts = pos_df.groupby(['POS'])['Token'].count().sort_values(ascending=False)\n",
    "pos_df_posscounts.head(10)"
   ]
  },
  {
   "cell_type": "markdown",
   "metadata": {},
   "source": []
  },
  {
   "cell_type": "code",
   "execution_count": null,
   "metadata": {},
   "outputs": [],
   "source": [
    "nouns = pos_df[pos_df['POS'] == 'NOUN'][:10]\n",
    "print(nouns)\n",
    "\n",
    "adjectives = pos_df[pos_df['POS'] == 'ADJ'][:10]\n",
    "print(adjectives)"
   ]
  },
  {
   "cell_type": "markdown",
   "metadata": {},
   "source": [
    "## Named Entity Recognition (NER)\n",
    "- searches the text and pulls out entities (people, places, organizations, etc)\n",
    "- this is useful for many NLP tasks, such as Sentiment Analysis, etc"
   ]
  },
  {
   "cell_type": "code",
   "execution_count": null,
   "metadata": {},
   "outputs": [],
   "source": [
    "from spacy import displacy, tokenizer\n",
    "import re\n",
    "\n",
    "nlp = spacy.load(\"en_core_web_sm\")\n",
    "google_text = \"Google was founded on September 4, 1998, by computer scientists Larry Page and Sergey Brin while they were PhD students at Stanford University in California. Together they own about 14% of its publicly listed shares and control 56% of its stockholder voting power through super-voting stock. The company went public via an initial public offering (IPO) in 2004. In 2015, Google was reorganized as a wholly owned subsidiary of Alphabet Inc. Google is Alphabet's largest subsidiary and is a holding company for Alphabet's internet properties and interests. Sundar Pichai was appointed CEO of Google on October 24, 2015, replacing Larry Page, who became the CEO of Alphabet. On December 3, 2019, Pichai also became the CEO of Alphabet.\""
   ]
  },
  {
   "cell_type": "code",
   "execution_count": null,
   "metadata": {},
   "outputs": [],
   "source": [
    "# create spacy document\n",
    "spacy_doc = nlp(google_text)\n",
    "\n",
    "for word in spacy_doc.ents:\n",
    "    print(word.text, word.label_)"
   ]
  },
  {
   "cell_type": "code",
   "execution_count": null,
   "metadata": {},
   "outputs": [],
   "source": [
    "from IPython.display import display, HTML\n",
    "svg = displacy.render(spacy_doc, style='ent', jupyter=False)\n",
    "display(HTML(svg))"
   ]
  },
  {
   "cell_type": "code",
   "execution_count": null,
   "metadata": {},
   "outputs": [],
   "source": [
    "# remove punctuation and set to lowercase\n",
    "google_text_clean = re.sub(r'[^\\w\\s]', '', google_text).lower()\n",
    "print(google_text_clean)"
   ]
  },
  {
   "cell_type": "code",
   "execution_count": null,
   "metadata": {},
   "outputs": [],
   "source": [
    "spacy_doc_clean = npl(google_text_clean)\n",
    "for word in spacy_doc_clean.ents:\n",
    "    print(word.text, word.label_)"
   ]
  },
  {
   "cell_type": "code",
   "execution_count": null,
   "metadata": {},
   "outputs": [],
   "source": [
    "svg = displacy.render(spacy_doc_clean, style='ent', jupyter=False)\n",
    "display(HTML(svg))"
   ]
  }
 ],
 "metadata": {
  "kernelspec": {
   "display_name": ".venv",
   "language": "python",
   "name": "python3"
  },
  "language_info": {
   "codemirror_mode": {
    "name": "ipython",
    "version": 3
   },
   "file_extension": ".py",
   "mimetype": "text/x-python",
   "name": "python",
   "nbconvert_exporter": "python",
   "pygments_lexer": "ipython3",
   "version": "3.12.9"
  }
 },
 "nbformat": 4,
 "nbformat_minor": 2
}
