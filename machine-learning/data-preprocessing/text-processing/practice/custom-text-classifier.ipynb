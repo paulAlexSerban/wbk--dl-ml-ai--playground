{
 "cells": [
  {
   "cell_type": "markdown",
   "metadata": {},
   "source": [
    "# Custom Text Classifier"
   ]
  },
  {
   "cell_type": "code",
   "execution_count": null,
   "metadata": {},
   "outputs": [],
   "source": [
    "import pandas as pd\n",
    "from sklearn.feature_extraction.text import CountVectorizer\n",
    "from sklearn.model_selection import train_test_split\n",
    "from sklearn.metrics import accuracy_score\n",
    "from sklearn.metrics import confusion_matrix, classification_report"
   ]
  },
  {
   "cell_type": "code",
   "execution_count": null,
   "metadata": {},
   "outputs": [],
   "source": [
    "# sample data of sentences and their associated sentiment labels\n",
    "data = pd.DataFrame(\n",
    "        [\n",
    "            (\"i love spending time with my friends and family\", \"positive\"),\n",
    "            (\"that was the best meal i've ever had in my life\", \"positive\"),\n",
    "            (\"i feel so grateful for everything i have in my life\", \"positive\"),\n",
    "            (\"i received a promotion at work and i couldn't be happier\", \"positive\"),\n",
    "            (\"watching a beautiful sunset always fills me with joy\", \"positive\"),\n",
    "            (\n",
    "                \"my partner surprised me with a thoughtful gift and it made my day\",\n",
    "                \"positive\",\n",
    "            ),\n",
    "            (\"i am so proud of my daughter for graduating with honors\", \"positive\"),\n",
    "            (\n",
    "                \"listening to my favorite music always puts me in a good mood\",\n",
    "                \"positive\",\n",
    "            ),\n",
    "            (\n",
    "                \"i love the feeling of accomplishment after completing a challenging task\",\n",
    "                \"positive\",\n",
    "            ),\n",
    "            (\"i am excited to go on vacation next week\", \"positive\"),\n",
    "            (\"i feel so overwhelmed with work and responsibilities\", \"negative\"),\n",
    "            (\"the traffic during my commute is always so frustrating\", \"negative\"),\n",
    "            (\"i received a parking ticket and it ruined my day\", \"negative\"),\n",
    "            (\n",
    "                \"i got into an argument with my partner and we're not speaking\",\n",
    "                \"negative\",\n",
    "            ),\n",
    "            (\"i have a headache and i feel terrible\", \"negative\"),\n",
    "            (\"i received a rejection letter for the job i really wanted\", \"negative\"),\n",
    "            (\"my car broke down and it's going to be expensive to fix\", \"negative\"),\n",
    "            (\"i'm feeling sad because i miss my friends who live far away\", \"negative\"),\n",
    "            (\n",
    "                \"i'm frustrated because i can't seem to make progress on my project\",\n",
    "                \"negative\",\n",
    "            ),\n",
    "            (\"i'm disappointed because my team lost the game\", \"negative\"),\n",
    "        ], columns=[\"text\", \"sentiment\"]\n",
    ")"
   ]
  },
  {
   "cell_type": "markdown",
   "metadata": {},
   "source": [
    "> Problem: create an algorithm that can classify the sentences by the sentiment score."
   ]
  },
  {
   "cell_type": "code",
   "execution_count": null,
   "metadata": {},
   "outputs": [],
   "source": [
    "# shuffle data to ensure that positive and negative examples are mixed\n",
    "data = data.sample(frac=1).reset_index(drop=True)"
   ]
  },
  {
   "cell_type": "code",
   "execution_count": null,
   "metadata": {},
   "outputs": [],
   "source": [
    "x = data['text']\n",
    "y = data['sentiment']"
   ]
  },
  {
   "cell_type": "code",
   "execution_count": null,
   "metadata": {},
   "outputs": [],
   "source": [
    "count_vectorizer = CountVectorizer()"
   ]
  },
  {
   "cell_type": "code",
   "execution_count": null,
   "metadata": {},
   "outputs": [],
   "source": [
    "count_vectorizer_fit = count_vectorizer.fit_transform(x)"
   ]
  },
  {
   "cell_type": "code",
   "execution_count": null,
   "metadata": {},
   "outputs": [],
   "source": [
    "bag_of_words = pd.DataFrame(count_vectorizer_fit.toarray(), columns=count_vectorizer.get_feature_names_out())\n",
    "bag_of_words"
   ]
  },
  {
   "cell_type": "code",
   "execution_count": null,
   "metadata": {},
   "outputs": [],
   "source": [
    "x_train, x_test, y_train, y_test = train_test_split(bag_of_words, y, test_size=0.3, random_state=7)"
   ]
  },
  {
   "cell_type": "markdown",
   "metadata": {},
   "source": [
    "## Logistic Regression\n",
    "- Logistic regression is a statistical model that in its basic form uses a logistic function to model a binary dependent variable.\n",
    "- In regression analysis, logistic regression (or logit regression) is estimating the parameters of a logistic model (a form of binary regression).\n",
    "- Mathematically, a binary logistic model has a dependent variable with two possible values, such as pass/fail which is represented by an indicator variable, where the two values are labeled \"0\" and \"1\"."
   ]
  },
  {
   "cell_type": "code",
   "execution_count": null,
   "metadata": {},
   "outputs": [],
   "source": [
    "from sklearn.linear_model import LogisticRegression"
   ]
  },
  {
   "cell_type": "code",
   "execution_count": null,
   "metadata": {},
   "outputs": [],
   "source": [
    "logistic_regression_model = LogisticRegression(random_state=1).fit(x_train, y_train)"
   ]
  },
  {
   "cell_type": "code",
   "execution_count": null,
   "metadata": {},
   "outputs": [],
   "source": [
    "y_pred_logistic_regression = logistic_regression_model.predict(x_test)"
   ]
  },
  {
   "cell_type": "code",
   "execution_count": null,
   "metadata": {},
   "outputs": [],
   "source": [
    "accuracy_score(y_pred_logistic_regression, y_test)"
   ]
  },
  {
   "cell_type": "code",
   "execution_count": null,
   "metadata": {},
   "outputs": [],
   "source": [
    "print(classification_report(y_test, y_pred_logistic_regression, zero_division=0))"
   ]
  },
  {
   "cell_type": "markdown",
   "metadata": {},
   "source": [
    "# Naive Bayes\n",
    "- Naive Bayes is a classification technique based on Bayes’ Theorem with an assumption of independence among predictors.\n",
    "- In simple terms, a Naive Bayes classifier assumes that the presence of a particular feature in a class is unrelated to the presence of any other feature.\n",
    "- For example, a fruit may be considered to be an apple if it is red, round, and about 3 inches in diameter. Even if these features depend on each other or upon the existence of the other features, a naive Bayes classifier would consider all of these properties to independently contribute to the probability that this fruit is an apple."
   ]
  },
  {
   "cell_type": "code",
   "execution_count": null,
   "metadata": {},
   "outputs": [],
   "source": [
    "from sklearn.naive_bayes import MultinomialNB"
   ]
  },
  {
   "cell_type": "code",
   "execution_count": null,
   "metadata": {},
   "outputs": [],
   "source": [
    "naive_bayes_alg = MultinomialNB().fit(x_train, y_train)\n",
    "\n",
    "y_prediction_naive_bayes = naive_bayes_alg.predict(x_test)\n",
    "\n",
    "accuracy_score(y_prediction_naive_bayes, y_test)"
   ]
  },
  {
   "cell_type": "code",
   "execution_count": null,
   "metadata": {},
   "outputs": [],
   "source": [
    "print(classification_report(y_test, y_prediction_naive_bayes, zero_division=0))"
   ]
  },
  {
   "cell_type": "markdown",
   "metadata": {},
   "source": [
    "# Linear Support Vector Machine (Linear SVC)\n",
    "- Linear Support Vector Machine is a linear model for classification and regression problems.\n",
    "- It can solve linear and non-linear problems and work well for many practical problems.\n",
    "- The idea of SVM is simple: The algorithm creates a line or a hyperplane which separates the data into classes."
   ]
  },
  {
   "cell_type": "code",
   "execution_count": null,
   "metadata": {},
   "outputs": [],
   "source": [
    "from sklearn.linear_model import SGDClassifier\n",
    "# there are other packages that can be used to implement the SVM algorithm\n",
    "# such as the libsvm library"
   ]
  },
  {
   "cell_type": "code",
   "execution_count": null,
   "metadata": {},
   "outputs": [],
   "source": [
    "svm_algo = SGDClassifier().fit(x_train, y_train)\n",
    "\n",
    "y_prediction_svm = svm_algo.predict(x_test)\n",
    "\n",
    "accuracy_score(y_prediction_svm, y_test)"
   ]
  },
  {
   "cell_type": "code",
   "execution_count": null,
   "metadata": {},
   "outputs": [],
   "source": [
    "print(classification_report(y_test, y_prediction_svm, zero_division=0))"
   ]
  },
  {
   "cell_type": "markdown",
   "metadata": {},
   "source": [
    "> NOTE\n",
    "> - scores are not that great, so we have to think of improving out data\n",
    "> - we can use more data, or use more advanced models, clean the data, etc."
   ]
  }
 ],
 "metadata": {
  "kernelspec": {
   "display_name": ".venv",
   "language": "python",
   "name": "python3"
  },
  "language_info": {
   "codemirror_mode": {
    "name": "ipython",
    "version": 3
   },
   "file_extension": ".py",
   "mimetype": "text/x-python",
   "name": "python",
   "nbconvert_exporter": "python",
   "pygments_lexer": "ipython3",
   "version": "3.12.9"
  }
 },
 "nbformat": 4,
 "nbformat_minor": 2
}
