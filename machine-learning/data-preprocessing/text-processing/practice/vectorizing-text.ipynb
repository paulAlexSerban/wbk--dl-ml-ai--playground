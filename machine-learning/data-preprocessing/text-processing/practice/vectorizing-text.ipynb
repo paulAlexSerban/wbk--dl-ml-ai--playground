{
 "cells": [
  {
   "cell_type": "markdown",
   "metadata": {},
   "source": [
    "# Vectorizeing text\n",
    "- representing text as numerical data"
   ]
  },
  {
   "cell_type": "markdown",
   "metadata": {},
   "source": [
    "## The Bag of Words Model"
   ]
  },
  {
   "cell_type": "code",
   "execution_count": null,
   "metadata": {},
   "outputs": [],
   "source": [
    "import pandas as pd\n",
    "from sklearn.feature_extraction.text import CountVectorizer"
   ]
  },
  {
   "cell_type": "code",
   "execution_count": null,
   "metadata": {},
   "outputs": [],
   "source": [
    "data = [\n",
    "    \" Most shark attacks occur about 10 feet from the beach since that is where the people are\",\n",
    "    \"the efficiency with which he paired the socks in the drawer was quite admirable\",\n",
    "    \"carol drank the blood as if she were a vampire\",\n",
    "    \"giving directions that the mountains are to the west only works when you can see them\",\n",
    "    \"the sign said there was road work ahead so he decided to speed up\",\n",
    "    \"the gruff old man sat in the back of the bait shop grumbling to himself as he scooped out a handful of worms\",\n",
    "]"
   ]
  },
  {
   "cell_type": "code",
   "execution_count": null,
   "metadata": {},
   "outputs": [],
   "source": [
    "count_vectorizer = CountVectorizer()"
   ]
  },
  {
   "cell_type": "code",
   "execution_count": null,
   "metadata": {},
   "outputs": [],
   "source": [
    "count_vectorizer_fit = count_vectorizer.fit_transform(data)"
   ]
  },
  {
   "cell_type": "code",
   "execution_count": null,
   "metadata": {},
   "outputs": [],
   "source": [
    "bag_of_words = pd.DataFrame(count_vectorizer_fit.toarray(), columns=count_vectorizer.get_feature_names_out())\n",
    "bag_of_words.head()"
   ]
  },
  {
   "cell_type": "markdown",
   "metadata": {},
   "source": [
    "# TF-IDF - Term Frequency-Inverse Document Frequency\n",
    "- calculates the importance of a word in a document relative to all other documents\n",
    "- Term Frequency (TF) = (Number of times term t appears in a document)/(Number of terms in the document)\n",
    "- Inverse Document Frequency (IDF) = log(N/n), where, N is the number of documents and n is the number of documents a term t has appeared in.\n",
    "- TF-IDF = TF*IDF"
   ]
  },
  {
   "cell_type": "code",
   "execution_count": null,
   "metadata": {},
   "outputs": [],
   "source": [
    "from sklearn.feature_extraction.text import TfidfVectorizer\n",
    "\n",
    "tfidf_vectorizer = TfidfVectorizer()\n",
    "\n",
    "tfidf_vectorizer_fit = tfidf_vectorizer.fit_transform(data)\n",
    "\n",
    "tfidf_bag = pd.DataFrame(tfidf_vectorizer_fit.toarray(), columns=tfidf_vectorizer.get_feature_names_out())\n",
    "tfidf_bag.head()"
   ]
  }
 ],
 "metadata": {
  "kernelspec": {
   "display_name": ".venv",
   "language": "python",
   "name": "python3"
  },
  "language_info": {
   "codemirror_mode": {
    "name": "ipython",
    "version": 3
   },
   "file_extension": ".py",
   "mimetype": "text/x-python",
   "name": "python",
   "nbconvert_exporter": "python",
   "pygments_lexer": "ipython3",
   "version": "3.12.9"
  }
 },
 "nbformat": 4,
 "nbformat_minor": 2
}
