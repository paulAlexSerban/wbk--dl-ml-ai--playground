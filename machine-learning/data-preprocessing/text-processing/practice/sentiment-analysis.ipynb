{
 "cells": [
  {
   "cell_type": "markdown",
   "metadata": {},
   "source": [
    "# Sentiment Analysis\n",
    "- Sentiment analysis is a process of analyzing emotion of the text data. It is also known as opinion mining. It is used to determine whether the given text is positive, negative or neutral.\n",
    "\n",
    "## Positive Sentiment\n",
    "- expressing of liking something or someone., enjoyment, positive emotion, satisfaction, happiness, joy, love, admiration, hope, optimism, etc.\n",
    "- example: \"The music in the cafe made me feel really calm and relaxed\"\n",
    "\n",
    "## Negative Sentiment\n",
    "- expression of a negative sentiment\n",
    "- example: \"The food was terrible and the service was slow\"\n",
    "\n",
    " ## Neutral Sentiment\n",
    " - sentence does not appear to be positive or negative\n",
    " - example: \"It was raining yesterday\""
   ]
  },
  {
   "cell_type": "code",
   "execution_count": null,
   "metadata": {},
   "outputs": [],
   "source": [
    "sentence_one = \"I had a great time at the movie, it was really funny.\"\n",
    "sentence_two = \"I had a great time a t the movie but the parking was terrible.\"\n",
    "sentence_three = \"I had a great time at the movie but the parking was not great.\"\n",
    "sentence_four = \"I went to see a movie.\""
   ]
  },
  {
   "cell_type": "markdown",
   "metadata": {},
   "source": [
    "# Rule-based sentiment analysis"
   ]
  },
  {
   "cell_type": "code",
   "execution_count": null,
   "metadata": {},
   "outputs": [],
   "source": [
    "from textblob import TextBlob\n",
    "\n",
    "print(sentence_one)\n",
    "sentence_score_one = TextBlob(sentence_one).sentiment.polarity\n",
    "print(\"Sentiment Score: \", sentence_score_one)\n",
    "\n",
    "print(sentence_two)\n",
    "sentence_score_two = TextBlob(sentence_two).sentiment.polarity\n",
    "print(\"Sentiment Score: \", sentence_score_two)\n",
    "\n",
    "print(sentence_three)\n",
    "sentence_score_three = TextBlob(sentence_three).sentiment.polarity\n",
    "print(\"Sentiment Score: \", sentence_score_three)\n",
    "\n",
    "print(sentence_four)\n",
    "sentence_score_four = TextBlob(sentence_four).sentiment.polarity\n",
    "print(\"Sentiment Score: \", sentence_score_four)"
   ]
  },
  {
   "cell_type": "code",
   "execution_count": null,
   "metadata": {},
   "outputs": [],
   "source": [
    "from vaderSentiment.vaderSentiment import SentimentIntensityAnalyzer\n",
    "vader_sentiment = SentimentIntensityAnalyzer()"
   ]
  },
  {
   "cell_type": "code",
   "execution_count": null,
   "metadata": {},
   "outputs": [],
   "source": [
    "print(sentence_one)\n",
    "vader_score_one = vader_sentiment.polarity_scores(sentence_one)\n",
    "print(\"Sentiment Score: \", vader_score_one)\n",
    "\n",
    "print(sentence_two)\n",
    "vader_score_two = vader_sentiment.polarity_scores(sentence_two)\n",
    "print(\"Sentiment Score: \", vader_score_two)\n",
    "\n",
    "print(sentence_three)\n",
    "vader_score_three = vader_sentiment.polarity_scores(sentence_three)\n",
    "print(\"Sentiment Score: \", vader_score_three)\n",
    "\n",
    "print(sentence_four)\n",
    "vader_score_four = vader_sentiment.polarity_scores(sentence_four)\n",
    "print(\"Sentiment Score: \", vader_score_four)"
   ]
  },
  {
   "cell_type": "markdown",
   "metadata": {},
   "source": [
    "# Pre-trained Transformer models"
   ]
  },
  {
   "cell_type": "code",
   "execution_count": null,
   "metadata": {},
   "outputs": [],
   "source": [
    "import os\n",
    "import transformers\n",
    "from transformers import pipeline\n",
    "from transformers import AutoModelForSequenceClassification, AutoTokenizer\n",
    "\n",
    "# Ensure PyTorch is installed\n",
    "import torch\n",
    "\n",
    "print(\"torch version :\", torch.__version__)\n",
    "print(\"torch use cuda :\", torch.cuda.is_available())\n",
    "print(\"transformers version :\", transformers.__version__)\n",
    "\n",
    "os.environ[\"USE_TORCH\"] = \"1\"\n",
    "\n",
    "distilbert_model_name = \"distilbert/distilbert-base-uncased-finetuned-sst-2-english\"\n",
    "finiteautomata_model_name = \"finiteautomata/bertweet-base-sentiment-analysis\"\n",
    "model_name = finiteautomata_model_name\n",
    "# Force model and tokenizer download\n",
    "tokenizer = AutoTokenizer.from_pretrained(model_name)\n",
    "model = AutoModelForSequenceClassification.from_pretrained(model_name)\n",
    "\n",
    "print(\"Model and tokenizer loaded successfully.\")\n",
    "\n",
    "sentiment_pipeline = pipeline(\n",
    "    \"sentiment-analysis\",\n",
    "    model=\"distilbert/distilbert-base-uncased-finetuned-sst-2-english\",\n",
    "    framework=\"pt\",\n",
    ")\n",
    "\n",
    "\n",
    "print(sentence_one)\n",
    "pipeline_score_one = sentiment_pipeline(sentence_one)\n",
    "print(\"Sentiment Score: \", pipeline_score_one)\n",
    "\n",
    "print(sentence_two)\n",
    "pipeline_score_two = sentiment_pipeline(sentence_two)\n",
    "print(\"Sentiment Score: \", pipeline_score_two)\n",
    "\n",
    "print(sentence_three)\n",
    "pipeline_score_three = sentiment_pipeline(sentence_three)\n",
    "print(\"Sentiment Score: \", pipeline_score_three)\n",
    "\n",
    "print(sentence_four)\n",
    "pipeline_score_four = sentiment_pipeline(sentence_four)\n",
    "print(\"Sentiment Score: \", pipeline_score_four)"
   ]
  }
 ],
 "metadata": {
  "kernelspec": {
   "display_name": ".venv",
   "language": "python",
   "name": "python3"
  },
  "language_info": {
   "codemirror_mode": {
    "name": "ipython",
    "version": 3
   },
   "file_extension": ".py",
   "mimetype": "text/x-python",
   "name": "python",
   "nbconvert_exporter": "python",
   "pygments_lexer": "ipython3",
   "version": "3.12.9"
  }
 },
 "nbformat": 4,
 "nbformat_minor": 2
}
